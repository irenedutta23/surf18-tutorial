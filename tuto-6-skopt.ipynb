{
 "cells": [
  {
   "cell_type": "markdown",
   "metadata": {},
   "source": [
    "Provided a set of models that depend on hyper-parameter, the aim here is to find what hyper-parameter set gives a best given figure of merit"
   ]
  },
  {
   "cell_type": "code",
   "execution_count": 1,
   "metadata": {
    "collapsed": true
   },
   "outputs": [],
   "source": [
    "from skopt import Optimizer\n",
    "from skopt.learning import GaussianProcessRegressor\n",
    "from skopt.space import Real, Integer\n",
    "from skopt import gp_minimize\n",
    "import sys, time"
   ]
  },
  {
   "cell_type": "code",
   "execution_count": null,
   "metadata": {
    "collapsed": true
   },
   "outputs": [],
   "source": [
    "!wget https://raw.githubusercontent.com/thongonary/mpi_opt/master/run_train_ex.py\n",
    "!wget https://raw.githubusercontent.com/thongonary/mpi_opt/master/threaded_skopt.py"
   ]
  },
  {
   "cell_type": "markdown",
   "metadata": {},
   "source": [
    "There are 2 hyper-parameters, the optimization is running for 20 iterations"
   ]
  },
  {
   "cell_type": "code",
   "execution_count": 2,
   "metadata": {
    "collapsed": true
   },
   "outputs": [],
   "source": [
    "n_par = 2\n",
    "run_for = 20\n",
    "dim = [Real(-20, 20) for i in range(n_par)]"
   ]
  },
  {
   "cell_type": "markdown",
   "metadata": {},
   "source": [
    "# Running external python script"
   ]
  },
  {
   "cell_type": "code",
   "execution_count": 3,
   "metadata": {
    "collapsed": true
   },
   "outputs": [],
   "source": [
    "from threaded_skopt import manager, externalfunc\n",
    "\n",
    "externalize = externalfunc(prog='python run_train_ex.py',\n",
    "                               names = ['par%s'%d for d in range(n_par)])\n",
    "    \n",
    "o = Optimizer(\n",
    "    n_initial_points =5,\n",
    "    acq_func = 'gp_hedge',\n",
    "    acq_optimizer='auto',\n",
    "    base_estimator=GaussianProcessRegressor(alpha=0.0, copy_X_train=True,\n",
    "                                            n_restarts_optimizer=2,\n",
    "                                            noise='gaussian', normalize_y=True,\n",
    "                                            optimizer='fmin_l_bfgs_b'),\n",
    "    dimensions=dim,\n",
    ")\n",
    "\n",
    "m = manager(n = 4,\n",
    "            skobj = o,\n",
    "            iterations = run_for,\n",
    "            func = externalize,\n",
    "            wait= 0\n",
    ")"
   ]
  },
  {
   "cell_type": "code",
   "execution_count": 4,
   "metadata": {},
   "outputs": [
    {
     "name": "stdout",
     "output_type": "stream",
     "text": [
      "('pre-fitting', [0.9328096143241993, -5.793467775694907], 36.14555244262987, 'remove', '357d7afb43812c5d29ba4ce3928157aa.json', 'to prevent this')\n",
      "('pre-fitting', [0.9328095290316512, -5.793467885425709], 39.582849364759454, 'remove', '21d6f64f62ce6b3fb8fc7b8d7aa99646.json', 'to prevent this')\n",
      "('pre-fitting', [0.9328086915970104, -5.793469565490803], 34.80269987982051, 'remove', 'fb8e98e02ba58dbcc7cb480992878a3e.json', 'to prevent this')\n",
      "('pre-fitting', [10.708204782969958, 8.845329224015014], 199.25462681982924, 'remove', '8efb60d45462efec68099a0396f93da4.json', 'to prevent this')\n",
      "('pre-fitting', [20.0, -7.463162252513012], 462.7618222961226, 'remove', '551e66e21cd5a06d5ec771e35e25d9df.json', 'to prevent this')\n",
      "('pre-fitting', [-19.00379136858975, -19.390121772388916], 738.7458254893672, 'remove', '780a30f9a44c6f9d5c3ab941a3cd0fc4.json', 'to prevent this')\n",
      "('pre-fitting', [-1.0634460368214427, 2.220714534600276], 15.023893295731842, 'remove', '0128769534ac8578241f886097488691.json', 'to prevent this')\n",
      "('pre-fitting', [-7.10396701031139, -8.445779719185584], 122.4825790071061, 'remove', 'bd9beac77f9efe2dee52bf30704e0ea8.json', 'to prevent this')\n",
      "('pre-fitting', [-20.0, -20.0], 808.2739588978561, 'remove', 'ae89efafc966f86a77251bf30992f347.json', 'to prevent this')\n",
      "('pre-fitting', [7.65284368251114, -15.62266720212762], 306.6554174669805, 'remove', 'ef47e63b1ae2e890eec8deafe09aca50.json', 'to prevent this')\n",
      "('pre-fitting', [-19.46390052588875, 0.22724718636142782], 379.8044782537159, 'remove', '18c55a7dfae31f6256d17058f69cf54a.json', 'to prevent this')\n",
      "('pre-fitting', [-0.40271569520474415, -15.910110318533318], 261.0291446273443, 'remove', '0be2c176c4f589f14302a826c60cb0be.json', 'to prevent this')\n",
      "('pre-fitting', [0.9328082554762389, -5.793469618483012], 44.01294182608415, 'remove', 'c1e9c1f9634d4f2e569e2de330307227.json', 'to prevent this')\n",
      "('pre-fitting', [0.9328098614810685, -5.793467452407249], 40.52209981118063, 'remove', '5eccfc3f883eb5648f37f47217b5bfb1.json', 'to prevent this')\n",
      "('pre-fitting', [-15.99109120695679, 18.12778683289637], 588.6823601239668, 'remove', 'a07517f46e192fea67fb1736f789be41.json', 'to prevent this')\n",
      "('pre-fitting', [1.9146613471726113, -10.30816439458561], 115.23642142771527, 'remove', 'd7f364d007a1554b3c814d06450d8cb1.json', 'to prevent this')\n",
      "('pre-fitting', [-1.412493199013376, -9.012695052636602], 87.981826277916, 'remove', 'bd0592e278f8fc628aff44c4e829ec11.json', 'to prevent this')\n",
      "('pre-fitting', [11.556414681766963, 2.429801152655781], 147.39112366602396, 'remove', 'ed7ce8b6ff7eda4eb1446f4e9bc7433f.json', 'to prevent this')\n",
      "('pre-fitting', [18.144224997122073, 15.677176249869106], 575.8285004868544, 'remove', 'c638f06033d496e36ee70e1acf258078.json', 'to prevent this')\n",
      "('pre-fitting', [6.106116703796335, 13.280094693982583], 220.03782481112935, 'remove', '6ea798f48d2e79250b84e54531cc72c3.json', 'to prevent this')\n",
      "('pre-fitting', [-1.1427693577056708, 14.02590623796921], 207.39047161441704, 'remove', '7b1126087ecdd255e29d393186f6ba19.json', 'to prevent this')\n",
      "('pre-fitting', [-13.514490524386797, 19.56761481099703], 568.6822211662324, 'remove', '2221b38f4eec51b8c5a26ec40f4ec876.json', 'to prevent this')\n",
      "('pre-fitting', [-5.523402562009567, -5.608742253343671], 64.3579809925751, 'remove', 'c918eac873f40aabda074fd72212074b.json', 'to prevent this')\n",
      "('pre-fitting', [-9.760168808445416, -18.3448459904202], 434.5504897122601, 'remove', 'be9f4370e1fd3afb92868b92f3127ba3.json', 'to prevent this')\n",
      "('pre-fitting', [0.9328233059696629, -5.793448816884684], 35.94990278536244, 'remove', '6411e3a4790a62d9743d37a7e127bcab.json', 'to prevent this')\n",
      "('pre-fitting', [-5.461080995703844, -14.494396391999217], 244.38314139746527, 'remove', '77ab41989f83a6a4c80aa4228b6863e4.json', 'to prevent this')\n",
      "('pre-fitting', [-1.1139124273744514, 13.795694833487389], 195.06806012934402, 'remove', '2f099c50f528656d2ece2479e538508e.json', 'to prevent this')\n",
      "('pre-fitting', [-8.283976729056024, 18.544228292815113], 420.3708127639982, 'remove', '979840b3dd5467efed3bb61d12861976.json', 'to prevent this')\n",
      "('pre-fitting', [4.967785838546838, -7.854779157214969], 95.4968114606095, 'remove', '51764a62ce14cac4a325172f15d79ff9.json', 'to prevent this')\n",
      "('pre-fitting', [0.9328090803651179, -5.793468511650863], 41.95817582642009, 'remove', '8391a6a433bd8a1a171c317b0d170f79.json', 'to prevent this')\n",
      "('pre-fitting', [3.3184251723323825, 2.4539651074729782], 22.34640522289628, 'remove', '1a050d967e01af991c82eb739b8352d9.json', 'to prevent this')\n",
      "('pre-fitting', [13.840088019920096, 0.12811272306499433], 199.12842082475206, 'remove', '0b7fb54d53f4645e2d91b33592426f90.json', 'to prevent this')\n",
      "('pre-fitting', [2.6816165309796745, -5.294608684407891], 41.06300096280788, 'remove', 'c3edc00e4cc5128574a7074d21a3aed9.json', 'to prevent this')\n",
      "('pre-fitting', [2.0145813654376745, -5.904413818581169], 41.89924174876987, 'remove', '731b1a0d4fb14f789df575efac685b0d.json', 'to prevent this')\n",
      "('pre-fitting', [-11.067030712140042, -10.078830789081035], 226.89707989725326, 'remove', 'a098dc2e021c0ec295df0189dd22172b.json', 'to prevent this')\n",
      "('pre-fitting', [-6.24566066658071, 20.0], 445.6265879004275, 'remove', '0cde1c02aced3753b6308be50cad1928.json', 'to prevent this')\n",
      "('pre-fitting', [2.4283545456924784, -11.222671646921796], 132.9510276628505, 'remove', 'c6e5eda634930b29e187fb3e2ae5c182.json', 'to prevent this')\n",
      "('pre-fitting', [0.9328079369878424, -5.793470171071233], 42.189393004759026, 'remove', '4f3b92a5c2c9086da31feb3cc7e8f44f.json', 'to prevent this')\n",
      "('pre-fitting', [11.664449442368845, 9.081742582778535], 220.4077512762518, 'remove', 'f5d9d922edcf6580d9fc94922c2f0718.json', 'to prevent this')\n",
      "('pre-fitting', [-8.111029509550452, -1.4351659128625904], 72.3576749438135, 'remove', 'ce6997e50070d159e7b82ccfb6eb2526.json', 'to prevent this')\n",
      "('Starting a thread with', [-13.482166729124472, -6.6385845279987006], '1/20')\n",
      "('Executing: ', 'python run_train_ex.py --par1 -6.638584528 --par0 -13.4821667291 --hash 4cb66971b3e26628b4bf0d1af69f947e > 4cb66971b3e26628b4bf0d1af69f947e.log')('Starting a thread with', [0.98735318521930182, 1.165527560828604], '2/20')\n",
      " \n",
      "('Starting a thread with', [-13.744654616902293, 3.723944616799443], '3/20')('Executing: ', 'python run_train_ex.py --par1 1.16552756083 --par0 0.987353185219 --hash 3f332fceb852b17b6f807ac9bbcdc693 > 3f332fceb852b17b6f807ac9bbcdc693.log')('Executing: ', 'python run_train_ex.py --par1 3.7239446168 --par0 -13.7446546169 --hash c610fd692cec018fa7459175d806d32f > c610fd692cec018fa7459175d806d32f.log')\n",
      "\n",
      "\n",
      "('Executing: ', 'python run_train_ex.py --par1 -1.7396255457 --par0 -1.12861522186 --hash daa63d654688a3c10e8e33202d6f9bb0 > daa63d654688a3c10e8e33202d6f9bb0.log')('Starting a thread with', [-1.1286152218636936, -1.7396255457028751], '4/20')\n",
      "\n",
      "('\\t got', 1, 'values')\n",
      "([0.98735318521930182, 1.165527560828604], 4.0398976910381075)\n",
      "1\n",
      "('Starting a thread with', [15.799496692239131, 18.010286083860052], '5/20')\n",
      "('Executing: ', 'python run_train_ex.py --par1 18.0102860839 --par0 15.7994966922 --hash a50b51811ef2a8027065ab56f2b0716e > a50b51811ef2a8027065ab56f2b0716e.log')\n",
      "('\\t got', 3, 'values')\n",
      "([-13.482166729124472, -6.6385845279987006], 226.6267967681756)\n",
      "([-13.744654616902293, 3.723944616799443], 209.73138612958397)\n",
      "([-1.1286152218636936, -1.7396255457028751], 7.004395870837673)\n",
      "4\n",
      "('Starting a thread with', [4.101781696991047, 10.572911903985727], '6/20')\n",
      "('\\t got', 1, 'values')\n",
      "([15.799496692239131, 18.010286083860052], 583.1298069838381)\n",
      "('Executing: ', 'python run_train_ex.py --par1 10.572911904 --par0 4.10178169699 --hash eade3f604f577f64fdfe0b60009e18ec > eade3f604f577f64fdfe0b60009e18ec.log')\n",
      "5\n",
      "('Starting a thread with', [-3.6922488351209566, -11.687511107617945], '7/20')\n",
      "('\\t got', 1, 'values')\n",
      "([4.101781696991047, 10.572911903985727], 134.3991639608232)\n",
      "('Executing: ', 'python run_train_ex.py --par1 -11.6875111076 --par0 -3.69224883512 --hash 4d612a92580603d86026b449d8f20dc0 > 4d612a92580603d86026b449d8f20dc0.log')\n",
      "6\n",
      "('Starting a thread with', [14.512397231038847, -4.6557316516476064], '8/20')\n",
      "('\\t got', 1, 'values')('Executing: ', 'python run_train_ex.py --par1 -4.65573165165 --par0 14.512397231 --hash bf5ecf66a48ebfa74d338d027420f4d7 > bf5ecf66a48ebfa74d338d027420f4d7.log')\n",
      "\n",
      "([-3.6922488351209566, -11.687511107617945], 153.76759099774344)\n"
     ]
    },
    {
     "name": "stdout",
     "output_type": "stream",
     "text": [
      "7\n",
      "('Starting a thread with', [-20.0, -9.8624075896011281], '9/20')\n",
      "('Executing: ', 'python run_train_ex.py --par1 -9.8624075896 --par0 -20.0 --hash 84d0a71d1684137974edefb7aac67f8a > 84d0a71d1684137974edefb7aac67f8a.log')('\\t got', 1, 'values')\n",
      "\n",
      "([14.512397231038847, -4.6557316516476064], 232.29599891361084)\n",
      "8\n",
      "('Starting a thread with', [-9.3479828486021539, 13.463969717228309], '10/20')\n",
      "('Executing: ', 'python run_train_ex.py --par1 13.4639697172 --par0 -9.3479828486 --hash 8696d81da4fe89892171c23656d3473e > 8696d81da4fe89892171c23656d3473e.log')('\\t got', 1, 'values')\n",
      "\n",
      "([-20.0, -9.8624075896011281], 503.0703645700976)\n",
      "9\n",
      "('Starting a thread with', [8.0263440430672546, -13.412733860671086], '11/20')\n",
      "('\\t got', 1, 'values')('Executing: ', 'python run_train_ex.py --par1 -13.4127338607 --par0 8.02634404307 --hash 64911c59d28f6ef6ea7311816b950351 > 64911c59d28f6ef6ea7311816b950351.log')\n",
      "\n",
      "([-9.3479828486021539, 13.463969717228309], 274.1877185562736)\n",
      "10\n",
      "('Starting a thread with', [9.7400789370628793, -8.813941210396548], '12/20')\n",
      "('\\t got', 1, 'values')\n",
      "('Executing: ', 'python run_train_ex.py --par1 -8.8139412104 --par0 9.74007893706 --hash d6460edce46ebfc4339a36129a3f948f > d6460edce46ebfc4339a36129a3f948f.log')([8.0263440430672546, -13.412733860671086], 253.90746971759427)\n",
      "\n",
      "11\n",
      "('Starting a thread with', [-6.0755348270354919, -12.174681484151197], '13/20')\n",
      "('Executing: ', 'python run_train_ex.py --par1 -12.1746814842 --par0 -6.07553482704 --hash 37557599da3d644d1af6569de2a60a45 > 37557599da3d644d1af6569de2a60a45.log')('\\t got', 1, 'values')\n",
      "\n",
      "([9.7400789370628793, -8.813941210396548], 172.62589791179153)\n",
      "12\n",
      "('Starting a thread with', [10.263567963629136, 0.79382835762698889], '14/20')\n",
      "('Executing: ', 'python run_train_ex.py --par1 0.793828357627 --par0 10.2635679636 --hash 647e7a743b4f850711bb5436c730b4e7 > 647e7a743b4f850711bb5436c730b4e7.log')('\\t got', 1, 'values')\n",
      "\n",
      "([-6.0755348270354919, -12.174681484151197], 186.05520059430685)\n",
      "13\n",
      "('Starting a thread with', [-4.5287085403704594, -12.796809799475302], '15/20')\n",
      "('\\t got', 1, 'values')\n",
      "([10.263567963629136, 0.79382835762698889], 108.27341555729211)\n",
      "('Executing: ', 'python run_train_ex.py --par1 -12.7968097995 --par0 -4.52870854037 --hash c62466d39063f908e9b68adb3291b55c > c62466d39063f908e9b68adb3291b55c.log')\n",
      "14\n",
      "('Starting a thread with', [-17.369028134645742, -4.6931992454254789], '16/20')\n",
      "('\\t got', 1, 'values')\n",
      "([-4.5287085403704594, -12.796809799475302], 191.43956055368858)\n",
      "('Executing: ', 'python run_train_ex.py --par1 -4.69319924543 --par0 -17.3690281346 --hash 4e798111c95eacaa7e6ef08bd0a5cffd > 4e798111c95eacaa7e6ef08bd0a5cffd.log')\n",
      "15\n",
      "('Starting a thread with', [9.5336290706943174, -9.9997990452980883], '17/20')\n",
      "('\\t got', 1, 'values')\n",
      "([-17.369028134645742, -4.6931992454254789], 325.6884898901759)\n",
      "('Executing: ', 'python run_train_ex.py --par1 -9.9997990453 --par0 9.53362907069 --hash 2cd144e49514f52f3f3dda816ed98f61 > 2cd144e49514f52f3f3dda816ed98f61.log')\n",
      "16\n",
      "('Starting a thread with', [20.0, -19.996935567110722], '18/20')\n",
      "('\\t got', 1, 'values')\n",
      "([9.5336290706943174, -9.9997990452980883], 193.35804069082766)\n",
      "('Executing: ', 'python run_train_ex.py --par1 -19.9969355671 --par0 20.0 --hash 81fccdbd8a80818a158e88846ca251e8 > 81fccdbd8a80818a158e88846ca251e8.log')\n",
      "17\n",
      "('Starting a thread with', [20.0, -20.0], '19/20')\n",
      "('\\t got', 1, 'values')\n",
      "([20.0, -19.996935567110722], 806.5004737794741)\n",
      "('Executing: ', 'python run_train_ex.py --par1 -20.0 --par0 20.0 --hash d80200da9295c230bf1bb3c4c5a03969 > d80200da9295c230bf1bb3c4c5a03969.log')\n",
      "18\n",
      "('Starting a thread with', [-11.530281791388543, 17.269673153478351], '20/20')\n",
      "('Executing: ', 'python run_train_ex.py --par1 17.2696731535 --par0 -11.5302817914 --hash bc0fead10f727fdb47c4dc7d4ac6a5b9 > bc0fead10f727fdb47c4dc7d4ac6a5b9.log')\n",
      "('took', 25.0, '[s]')\n"
     ]
    }
   ],
   "source": [
    "start = time.mktime(time.gmtime())\n",
    "m.run()\n",
    "print (\"took\",time.mktime(time.gmtime())-start,\"[s]\")"
   ]
  },
  {
   "cell_type": "code",
   "execution_count": 5,
   "metadata": {},
   "outputs": [
    {
     "name": "stdout",
     "output_type": "stream",
     "text": [
      "Threaded GPM best value 4.03989769104 at [0.98735318521930182, 1.165527560828604]\n"
     ]
    }
   ],
   "source": [
    "import numpy as np\n",
    "best = np.argmin( m.sk.yi)\n",
    "print \"Threaded GPM best value\",m.sk.yi[best],\"at\",m.sk.Xi[best],"
   ]
  },
  {
   "cell_type": "markdown",
   "metadata": {},
   "source": [
    "# Running an internal python function (beware the global lock)"
   ]
  },
  {
   "cell_type": "code",
   "execution_count": 6,
   "metadata": {
    "collapsed": true
   },
   "outputs": [],
   "source": [
    "from threaded_skopt import dummy_func\n",
    "    \n",
    "o = Optimizer(\n",
    "    n_initial_points =5,\n",
    "    acq_func = 'gp_hedge',\n",
    "    acq_optimizer='auto',\n",
    "    base_estimator=GaussianProcessRegressor(alpha=0.0, copy_X_train=True,\n",
    "                                            n_restarts_optimizer=2,\n",
    "                                            noise='gaussian', normalize_y=True,\n",
    "                                            optimizer='fmin_l_bfgs_b'),\n",
    "    dimensions=dim,\n",
    ")\n",
    "\n",
    "m = manager(n = 4,\n",
    "            skobj = o,\n",
    "            iterations = run_for,\n",
    "            func = dummy_func,\n",
    "            wait= 0\n",
    ")"
   ]
  },
  {
   "cell_type": "code",
   "execution_count": 7,
   "metadata": {},
   "outputs": [
    {
     "name": "stdout",
     "output_type": "stream",
     "text": [
      "('Starting a thread with', [6.6051055584664553, 11.607181572710562], '1/20')\n",
      "('\\t got', 1, 'values')\n",
      "([6.6051055584664553, 11.607181572710562], 186.10773300002438)\n",
      "1\n",
      "('Starting a thread with', [19.409062262411084, 10.273642724891403], '2/20')\n",
      "('Starting a thread with', [18.657786053978938, 5.3496953155621476], '3/20')\n",
      "('\\t got', 2, 'values')\n",
      "([19.409062262411084, 10.273642724891403], 489.49987257919275)\n",
      "([18.657786053978938, 5.3496953155621476], 385.81941318271691)\n",
      "3\n",
      "('Starting a thread with', [-0.70377854605517953, 16.47787167791089], '4/20')\n",
      "('\\t got', 1, 'values')\n",
      "([-0.70377854605517953, 16.47787167791089], 280.09099040991282)\n",
      "4\n",
      "('Starting a thread with', [7.0322336605312969, 3.0813251659881722], '5/20')\n",
      "('Starting a thread with', [-20.0, 4.9530043027887132], '6/20')\n",
      "('\\t got', 1, 'values')\n",
      "([7.0322336605312969, 3.0813251659881722], 68.025693338849052)\n",
      "5\n"
     ]
    },
    {
     "name": "stderr",
     "output_type": "stream",
     "text": [
      "/usr/local/lib/python2.7/dist-packages/skopt/optimizer/optimizer.py:399: UserWarning: The objective has been evaluated at this point before.\n",
      "  warnings.warn(\"The objective has been evaluated \"\n"
     ]
    },
    {
     "name": "stdout",
     "output_type": "stream",
     "text": [
      "('Starting a thread with', [-20.0, -20.0], '7/20')\n",
      "('\\t got', 1, 'values')\n",
      "([-20.0, 4.9530043027887132], 433.06588062393178)\n",
      "6\n",
      "('Starting a thread with', [-1.7806797485040349, -18.971925787379465], '8/20')\n",
      "('\\t got', 1, 'values')\n",
      "([-20.0, -20.0], 801.86886828617946)\n",
      "7\n",
      "('Starting a thread with', [20.0, 8.0338583806387049], '9/20')\n",
      "('\\t got', 2, 'values')\n",
      "([-1.7806797485040349, -18.971925787379465], 367.59723280675615)\n",
      "([20.0, 8.0338583806387049], 467.67368283839494)\n",
      "9\n",
      "('Starting a thread with', [16.443864306694429, 15.310208160936824], '10/20')\n",
      "('\\t got', 1, 'values')\n",
      "([16.443864306694429, 15.310208160936824], 510.717124724109)\n",
      "10\n",
      "('Starting a thread with', [-6.4923407596531106, -9.9660739852878351], '11/20')\n",
      "('\\t got', 1, 'values')\n",
      "([-6.4923407596531106, -9.9660739852878351], 142.62847328529179)\n",
      "11\n",
      "('Starting a thread with', [11.717337263675613, 9.3283481961521808], '12/20')\n",
      "('\\t got', 1, 'values')\n",
      "([11.717337263675613, 9.3283481961521808], 226.30970971485607)\n",
      "12\n",
      "('Starting a thread with', [19.808395127927767, 15.28278784066967], '13/20')\n",
      "('Starting a thread with', [15.625693326924647, 11.132407346382081], '14/20')\n",
      "('\\t got', 1, 'values')\n",
      "([19.808395127927767, 15.28278784066967], 633.6358046670706)\n",
      "13\n",
      "('Starting a thread with', [0.58639572822552566, -17.013386874788914], '15/20')\n",
      "('\\t got', 2, 'values')\n",
      "([15.625693326924647, 11.132407346382081], 375.80389924368507)\n",
      "([0.58639572822552566, -17.013386874788914], 293.52140615892404)\n",
      "15\n",
      "('Starting a thread with', [14.348704031868721, 2.9418194714805779], '16/20')\n",
      "('\\t got', 1, 'values')\n",
      "([14.348704031868721, 2.9418194714805779], 218.47385927727626)\n",
      "16\n",
      "('Starting a thread with', [7.8975796831606573, 1.3761002221251246], '17/20')\n",
      "('Starting a thread with', [-20.0, 20.0], '18/20')\n",
      "('\\t got', 1, 'values')\n",
      "([7.8975796831606573, 1.3761002221251246], 69.759196555419592)\n",
      "17\n",
      "('Starting a thread with', [-0.73331473952886483, -16.330901407369325], '19/20')\n",
      "('\\t got', 2, 'values')\n",
      "([-20.0, 20.0], 809.99091438244704)\n",
      "([-0.73331473952886483, -16.330901407369325], 269.00693138064423)\n",
      "19\n",
      "('Starting a thread with', [-16.931706654405026, -13.424736397861524], '20/20')\n",
      "took 22.0 [s]\n"
     ]
    }
   ],
   "source": [
    "start = time.mktime(time.gmtime())\n",
    "m.run()\n",
    "print \"took\",time.mktime(time.gmtime())-start,\"[s]\""
   ]
  },
  {
   "cell_type": "code",
   "execution_count": null,
   "metadata": {
    "collapsed": true
   },
   "outputs": [],
   "source": [
    "import numpy as np\n",
    "best = np.argmin( m.sk.yi)\n",
    "print \"Threaded GPM best value\",m.sk.yi[best],\"at\",m.sk.Xi[best],"
   ]
  },
  {
   "cell_type": "markdown",
   "metadata": {},
   "source": [
    "For full documentation of scikit-optimize please refer to https://scikit-optimize.github.io/"
   ]
  },
  {
   "cell_type": "markdown",
   "metadata": {
    "collapsed": true
   },
   "source": [
    "More mpi-skopt functionality under https://github.com/thongonary/mpi_opt "
   ]
  },
  {
   "cell_type": "code",
   "execution_count": null,
   "metadata": {
    "collapsed": true
   },
   "outputs": [],
   "source": []
  }
 ],
 "metadata": {
  "kernelspec": {
   "display_name": "Python 2",
   "language": "python",
   "name": "python2"
  },
  "language_info": {
   "codemirror_mode": {
    "name": "ipython",
    "version": 2
   },
   "file_extension": ".py",
   "mimetype": "text/x-python",
   "name": "python",
   "nbconvert_exporter": "python",
   "pygments_lexer": "ipython2",
   "version": "2.7.12"
  }
 },
 "nbformat": 4,
 "nbformat_minor": 2
}
