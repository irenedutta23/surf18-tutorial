{
 "cells": [
  {
   "cell_type": "markdown",
   "metadata": {},
   "source": [
    "How to run a keras model over multiple GPU and get speedups."
   ]
  },
  {
   "cell_type": "code",
   "execution_count": null,
   "metadata": {},
   "outputs": [],
   "source": [
    "!git clone https://github.com/vlimant/mpi_learn\n",
    "!cp mpi_learn/mpiLAPI ."
   ]
  },
  {
   "cell_type": "code",
   "execution_count": 1,
   "metadata": {},
   "outputs": [
    {
     "name": "stderr",
     "output_type": "stream",
     "text": [
      "Using TensorFlow backend.\n"
     ]
    }
   ],
   "source": [
    "from mpiLAPI import mpi_learn_api"
   ]
  },
  {
   "cell_type": "code",
   "execution_count": 2,
   "metadata": {
    "collapsed": true
   },
   "outputs": [],
   "source": [
    "from keras.models import Model, Sequential\n",
    "from keras.layers import Dense, Activation, Input, Reshape, Conv2D"
   ]
  },
  {
   "cell_type": "code",
   "execution_count": 3,
   "metadata": {
    "collapsed": true
   },
   "outputs": [],
   "source": [
    "activation='sigmoid'"
   ]
  },
  {
   "cell_type": "code",
   "execution_count": 4,
   "metadata": {
    "collapsed": true
   },
   "outputs": [],
   "source": [
    "i = Input((28,28,1))\n",
    "l = Reshape( (28*28,))(i)\n",
    "l = Dense(1000, activation=activation)(l)\n",
    "o = Dense(10, init='uniform', activation='softmax')(l)\n",
    "simple = Model( i ,o )\n",
    "simple.compile(loss='categorical_crossentropy', optimizer='adam',metrics=['accuracy'])"
   ]
  },
  {
   "cell_type": "code",
   "execution_count": 5,
   "metadata": {
    "collapsed": true
   },
   "outputs": [],
   "source": [
    "import glob\n",
    "files = list(glob.glob('/data/shared/mnist/mnist_t*.h5'))"
   ]
  },
  {
   "cell_type": "code",
   "execution_count": 6,
   "metadata": {
    "collapsed": true
   },
   "outputs": [],
   "source": [
    "mlapi = mpi_learn_api( model = simple,\n",
    "                        train_files = files[:-4],\n",
    "                        val_files = files[-4:],\n",
    "                        check_file = True\n",
    ")"
   ]
  },
  {
   "cell_type": "code",
   "execution_count": 7,
   "metadata": {},
   "outputs": [
    {
     "name": "stdout",
     "output_type": "stream",
     "text": [
      "mpirun  -n 4  mpi_learn/MPIDriver.py /tmp//8d3b33ef046728eaea8e1bc79dc60404.json /tmp//8d3b33ef046728eaea8e1bc79dc60404_train.list /tmp//8d3b33ef046728eaea8e1bc79dc60404_val.list --tf --labels-name labels --master-gpu --features-name features --max-gpus 8 --trial-name test --epoch 10 --batch 10\n"
     ]
    }
   ],
   "source": [
    "o = mlapi.train(N=4,\n",
    "                trial_name = 'test',\n",
    "                features_name = 'features',\n",
    "                labels_name = 'labels',\n",
    "                batch = 10,\n",
    "                epoch = 10,\n",
    "                verbose = True,\n",
    "                loss = 'categorical_crossentropy',\n",
    "                easgd = False,\n",
    "                early_stopping = 5,\n",
    "                tf= True\n",
    ")"
   ]
  },
  {
   "cell_type": "code",
   "execution_count": 8,
   "metadata": {},
   "outputs": [
    {
     "name": "stdout",
     "output_type": "stream",
     "text": [
      "2157338924cc847a717edc818bfe2094_test_mpi_learn_result.h5\r\n",
      "6759964687cb843761250b200032a119_test_mpi_learn_result.h5\r\n",
      "8d3b33ef046728eaea8e1bc79dc60404_test_history.json\r\n",
      "8d3b33ef046728eaea8e1bc79dc60404_test_mpi_learn_result.h5\r\n",
      "algo_.pkl\r\n",
      "d60ac6cdf044f5eb45aa72b0b707ffa7_test_mpi_learn_result.h5\r\n",
      "deeb957daac5be1763cec3041925800a_test_mpi_learn_result.h5\r\n",
      "mpiLAPI.py~\r\n",
      "mpiLAPI.pyc\r\n",
      "mpi_learn\r\n",
      "__pycache__\r\n",
      "README.md\r\n",
      "run_train_ex.py\r\n",
      "savedd.py\r\n",
      "threaded_skopt.py\r\n",
      "threaded_skopt.py~\r\n",
      "threaded_skopt.pyc\r\n",
      "tuto-1-Jupyter.ipynb\r\n",
      "tuto-2-datasets.ipynb\r\n",
      "tuto-3-matplotlib.ipynb\r\n",
      "tuto-4-scikit-learn.ipynb\r\n",
      "tuto-5-keras.ipynb\r\n",
      "tuto-6-skopt.ipynb\r\n",
      "tuto-7-mpiAPI.ipynb\r\n"
     ]
    }
   ],
   "source": [
    "!ls"
   ]
  },
  {
   "cell_type": "markdown",
   "metadata": {},
   "source": [
    "you won't particularly get a speedup with this model because of how trivial it is, and the worker/master communication is likely overwhelming. It does provide some speedup on more complicated models/dataset https://arxiv.org/abs/1712.05878 "
   ]
  },
  {
   "cell_type": "markdown",
   "metadata": {},
   "source": [
    "More information about this experimental package available at https://github.com/duanders/mpi_learn\n",
    "You are better off running the training in the command line using mpirun"
   ]
  }
 ],
 "metadata": {
  "kernelspec": {
   "display_name": "Python 2",
   "language": "python",
   "name": "python2"
  },
  "language_info": {
   "codemirror_mode": {
    "name": "ipython",
    "version": 2
   },
   "file_extension": ".py",
   "mimetype": "text/x-python",
   "name": "python",
   "nbconvert_exporter": "python",
   "pygments_lexer": "ipython2",
   "version": "2.7.12"
  }
 },
 "nbformat": 4,
 "nbformat_minor": 2
}
